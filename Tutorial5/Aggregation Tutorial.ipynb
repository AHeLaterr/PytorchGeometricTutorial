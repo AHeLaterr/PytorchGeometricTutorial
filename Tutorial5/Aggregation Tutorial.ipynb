{
 "cells": [
  {
   "cell_type": "markdown",
   "metadata": {},
   "source": [
    "# Tutorial3: Aggregation\n"
   ]
  },
  {
   "cell_type": "markdown",
   "metadata": {},
   "source": [
    "In this tutorial we will override the aggregation method of the GIN convolution module of Pytorch Geometric implementing the following methods:\n",
    "\n",
    "- Principal Neighborhood Aggregation (PNA)\n",
    "- Learning Aggregation Functions (LAF)"
   ]
  },
  {
   "cell_type": "code",
   "execution_count": 1,
   "metadata": {},
   "outputs": [
    {
     "name": "stdout",
     "output_type": "stream",
     "text": [
      "1.11.0\n"
     ]
    },
    {
     "name": "stderr",
     "output_type": "stream",
     "text": [
      "/home/antonio/anaconda3/envs/geometric_new/lib/python3.9/site-packages/tqdm/auto.py:22: TqdmWarning: IProgress not found. Please update jupyter and ipywidgets. See https://ipywidgets.readthedocs.io/en/stable/user_install.html\n",
      "  from .autonotebook import tqdm as notebook_tqdm\n"
     ]
    }
   ],
   "source": [
    "import os\n",
    "import torch\n",
    "os.environ['TORCH'] = torch.__version__\n",
    "print(torch.__version__)\n",
    "\n",
    "!pip install -q torch-scatter -f https://data.pyg.org/whl/torch-${TORCH}.html\n",
    "!pip install -q torch-sparse -f https://data.pyg.org/whl/torch-${TORCH}.html\n",
    "!pip install -q git+https://github.com/pyg-team/pytorch_geometric.git"
   ]
  },
  {
   "cell_type": "code",
   "execution_count": 2,
   "metadata": {},
   "outputs": [
    {
     "data": {
      "text/plain": [
       "<torch._C.Generator at 0x7f6bc40cfb30>"
      ]
     },
     "execution_count": 2,
     "metadata": {},
     "output_type": "execute_result"
    }
   ],
   "source": [
    "import torch\n",
    "torch.manual_seed(42)"
   ]
  },
  {
   "cell_type": "markdown",
   "metadata": {},
   "source": [
    "### Message Passing Class"
   ]
  },
  {
   "cell_type": "code",
   "execution_count": 3,
   "metadata": {},
   "outputs": [],
   "source": [
    "from torch_geometric.nn import MessagePassing"
   ]
  },
  {
   "cell_type": "code",
   "execution_count": 4,
   "metadata": {},
   "outputs": [
    {
     "data": {
      "text/plain": [
       "['T_destination',\n",
       " '__annotations__',\n",
       " '__call__',\n",
       " '__check_input__',\n",
       " '__class__',\n",
       " '__collect__',\n",
       " '__delattr__',\n",
       " '__dict__',\n",
       " '__dir__',\n",
       " '__doc__',\n",
       " '__eq__',\n",
       " '__format__',\n",
       " '__ge__',\n",
       " '__getattr__',\n",
       " '__getattribute__',\n",
       " '__gt__',\n",
       " '__hash__',\n",
       " '__init__',\n",
       " '__init_subclass__',\n",
       " '__le__',\n",
       " '__lift__',\n",
       " '__lt__',\n",
       " '__module__',\n",
       " '__ne__',\n",
       " '__new__',\n",
       " '__reduce__',\n",
       " '__reduce_ex__',\n",
       " '__repr__',\n",
       " '__set_size__',\n",
       " '__setattr__',\n",
       " '__setstate__',\n",
       " '__sizeof__',\n",
       " '__str__',\n",
       " '__subclasshook__',\n",
       " '__weakref__',\n",
       " '_apply',\n",
       " '_call_impl',\n",
       " '_get_backward_hooks',\n",
       " '_get_name',\n",
       " '_load_from_state_dict',\n",
       " '_maybe_warn_non_full_backward_hook',\n",
       " '_named_members',\n",
       " '_register_load_state_dict_pre_hook',\n",
       " '_register_state_dict_hook',\n",
       " '_replicate_for_data_parallel',\n",
       " '_save_to_state_dict',\n",
       " '_slow_forward',\n",
       " '_version',\n",
       " 'add_module',\n",
       " 'aggregate',\n",
       " 'apply',\n",
       " 'bfloat16',\n",
       " 'buffers',\n",
       " 'children',\n",
       " 'combine',\n",
       " 'cpu',\n",
       " 'cuda',\n",
       " 'double',\n",
       " 'dump_patches',\n",
       " 'edge_update',\n",
       " 'edge_updater',\n",
       " 'eval',\n",
       " 'explain',\n",
       " 'explain_message',\n",
       " 'extra_repr',\n",
       " 'float',\n",
       " 'forward',\n",
       " 'get_buffer',\n",
       " 'get_extra_state',\n",
       " 'get_parameter',\n",
       " 'get_submodule',\n",
       " 'half',\n",
       " 'jittable',\n",
       " 'load_state_dict',\n",
       " 'message',\n",
       " 'message_and_aggregate',\n",
       " 'modules',\n",
       " 'named_buffers',\n",
       " 'named_children',\n",
       " 'named_modules',\n",
       " 'named_parameters',\n",
       " 'parameters',\n",
       " 'propagate',\n",
       " 'register_aggregate_forward_hook',\n",
       " 'register_aggregate_forward_pre_hook',\n",
       " 'register_backward_hook',\n",
       " 'register_buffer',\n",
       " 'register_edge_update_forward_hook',\n",
       " 'register_edge_update_forward_pre_hook',\n",
       " 'register_forward_hook',\n",
       " 'register_forward_pre_hook',\n",
       " 'register_full_backward_hook',\n",
       " 'register_message_and_aggregate_forward_hook',\n",
       " 'register_message_and_aggregate_forward_pre_hook',\n",
       " 'register_message_forward_hook',\n",
       " 'register_message_forward_pre_hook',\n",
       " 'register_module',\n",
       " 'register_parameter',\n",
       " 'register_propagate_forward_hook',\n",
       " 'register_propagate_forward_pre_hook',\n",
       " 'requires_grad_',\n",
       " 'set_extra_state',\n",
       " 'share_memory',\n",
       " 'special_args',\n",
       " 'state_dict',\n",
       " 'to',\n",
       " 'to_empty',\n",
       " 'train',\n",
       " 'type',\n",
       " 'update',\n",
       " 'xpu',\n",
       " 'zero_grad']"
      ]
     },
     "execution_count": 4,
     "metadata": {},
     "output_type": "execute_result"
    }
   ],
   "source": [
    "dir(MessagePassing)"
   ]
  },
  {
   "cell_type": "markdown",
   "metadata": {},
   "source": [
    "We are interested in the <span style='color:Blue'>aggregate</span> method, or, if you are using a sparse adjacency matrix, in the <span style='color:Blue'>message_and_aggregate</span> method. Convolutional classes in PyG extend MessagePassing, we construct our custom convoutional class extending GINConv."
   ]
  },
  {
   "cell_type": "markdown",
   "metadata": {},
   "source": [
    "Scatter operation in <span style='color:Blue'>aggregate</span>:"
   ]
  },
  {
   "cell_type": "markdown",
   "metadata": {},
   "source": [
    "<img src=\"https://raw.githubusercontent.com/rusty1s/pytorch_scatter/master/docs/source/_figures/add.svg?sanitize=true\" width=\"500\">"
   ]
  },
  {
   "cell_type": "code",
   "execution_count": 5,
   "metadata": {},
   "outputs": [],
   "source": [
    "from torch_geometric.nn import GINConv\n",
    "from torch.nn import Linear\n",
    "from laf_model import LAFLayer"
   ]
  },
  {
   "cell_type": "markdown",
   "metadata": {},
   "source": [
    "### LAF Aggregation Module"
   ]
  },
  {
   "cell_type": "markdown",
   "metadata": {},
   "source": [
    "<img src=\"laf.png\" width=\"500\">"
   ]
  },
  {
   "cell_type": "code",
   "execution_count": 6,
   "metadata": {},
   "outputs": [],
   "source": [
    "class GINLAFConv(GINConv):\n",
    "    def __init__(self, nn, units=1, node_dim=32, **kwargs):\n",
    "        super(GINLAFConv, self).__init__(nn, **kwargs)\n",
    "        self.laf = LAFLayer(units=units, kernel_initializer='random_uniform')\n",
    "        self.mlp = torch.nn.Linear(node_dim*units, node_dim)\n",
    "        self.dim = node_dim\n",
    "        self.units = units\n",
    "    \n",
    "    def aggregate(self, inputs, index):\n",
    "        x = torch.sigmoid(inputs)\n",
    "        x = self.laf(x, index)\n",
    "        x = x.view((-1, self.dim * self.units))\n",
    "        x = self.mlp(x)\n",
    "        return x\n",
    "    "
   ]
  },
  {
   "cell_type": "markdown",
   "metadata": {},
   "source": [
    "### PNA Aggregation"
   ]
  },
  {
   "cell_type": "markdown",
   "metadata": {},
   "source": [
    "<img src=\"pna.png\" width=\"800\">"
   ]
  },
  {
   "cell_type": "code",
   "execution_count": 7,
   "metadata": {},
   "outputs": [],
   "source": [
    "class GINPNAConv(GINConv):\n",
    "    def __init__(self, nn, node_dim=32, **kwargs):\n",
    "        super(GINPNAConv, self).__init__(nn, **kwargs)\n",
    "        self.mlp = torch.nn.Linear(node_dim*12, node_dim)\n",
    "        self.delta = 2.5749\n",
    "    \n",
    "    def aggregate(self, inputs, index):\n",
    "        sums = torch_scatter.scatter_add(inputs, index, dim=0)\n",
    "        maxs = torch_scatter.scatter_max(inputs, index, dim=0)[0]\n",
    "        means = torch_scatter.scatter_mean(inputs, index, dim=0)\n",
    "        var = torch.relu(torch_scatter.scatter_mean(inputs ** 2, index, dim=0) - means ** 2)\n",
    "        \n",
    "        aggrs = [sums, maxs, means, var]\n",
    "        c_idx = index.bincount().float().view(-1, 1)\n",
    "        l_idx = torch.log(c_idx + 1.)\n",
    "        \n",
    "        amplification_scaler = [c_idx / self.delta * a for a in aggrs]\n",
    "        attenuation_scaler = [self.delta / c_idx * a for a in aggrs]\n",
    "        combinations = torch.cat(aggrs+ amplification_scaler+ attenuation_scaler, dim=1)\n",
    "        x = self.mlp(combinations)\n",
    "    \n",
    "        return x\n",
    "    "
   ]
  },
  {
   "cell_type": "markdown",
   "metadata": {},
   "source": [
    "### Test the new classes"
   ]
  },
  {
   "cell_type": "code",
   "execution_count": 8,
   "metadata": {},
   "outputs": [],
   "source": [
    "from torch_geometric.nn import MessagePassing, SAGEConv, GINConv, global_add_pool\n",
    "import torch_scatter\n",
    "import torch.nn.functional as F\n",
    "from torch.nn import Sequential, Linear, ReLU\n",
    "from torch_geometric.datasets import TUDataset\n",
    "from torch_geometric.data import DataLoader\n",
    "import os.path as osp\n"
   ]
  },
  {
   "cell_type": "code",
   "execution_count": 11,
   "metadata": {},
   "outputs": [
    {
     "name": "stderr",
     "output_type": "stream",
     "text": [
      "Downloading https://www.chrsmrrs.com/graphkerneldatasets/MUTAG.zip\n",
      "Extracting data/TU/MUTAG/MUTAG.zip\n",
      "Processing...\n",
      "Done!\n",
      "/home/antonio/anaconda3/envs/geometric_new/lib/python3.9/site-packages/torch_geometric/deprecation.py:12: UserWarning: 'data.DataLoader' is deprecated, use 'loader.DataLoader' instead\n",
      "  warnings.warn(out)\n"
     ]
    }
   ],
   "source": [
    "path = osp.join('./', 'data', 'TU')\n",
    "dataset = TUDataset(path, name='MUTAG').shuffle()\n",
    "test_dataset = dataset[:len(dataset) // 10]\n",
    "train_dataset = dataset[len(dataset) // 10:]\n",
    "test_loader = DataLoader(test_dataset, batch_size=128)\n",
    "train_loader = DataLoader(train_dataset, batch_size=128)"
   ]
  },
  {
   "cell_type": "code",
   "execution_count": 12,
   "metadata": {},
   "outputs": [],
   "source": [
    "class LAFNet(torch.nn.Module):\n",
    "    def __init__(self):\n",
    "        super(LAFNet, self).__init__()\n",
    "\n",
    "        num_features = dataset.num_features\n",
    "        dim = 32\n",
    "        units = 3\n",
    "        \n",
    "        nn1 = Sequential(Linear(num_features, dim), ReLU(), Linear(dim, dim))\n",
    "        self.conv1 = GINLAFConv(nn1, units=units, node_dim=num_features)\n",
    "        self.bn1 = torch.nn.BatchNorm1d(dim)\n",
    "\n",
    "        nn2 = Sequential(Linear(dim, dim), ReLU(), Linear(dim, dim))\n",
    "        self.conv2 = GINLAFConv(nn2, units=units, node_dim=dim)\n",
    "        self.bn2 = torch.nn.BatchNorm1d(dim)\n",
    "\n",
    "        nn3 = Sequential(Linear(dim, dim), ReLU(), Linear(dim, dim))\n",
    "        self.conv3 = GINLAFConv(nn3, units=units, node_dim=dim)\n",
    "        self.bn3 = torch.nn.BatchNorm1d(dim)\n",
    "\n",
    "        nn4 = Sequential(Linear(dim, dim), ReLU(), Linear(dim, dim))\n",
    "        self.conv4 = GINLAFConv(nn4, units=units, node_dim=dim)\n",
    "        self.bn4 = torch.nn.BatchNorm1d(dim)\n",
    "\n",
    "        nn5 = Sequential(Linear(dim, dim), ReLU(), Linear(dim, dim))\n",
    "        self.conv5 = GINLAFConv(nn5, units=units, node_dim=dim)\n",
    "        self.bn5 = torch.nn.BatchNorm1d(dim)\n",
    "\n",
    "        self.fc1 = Linear(dim, dim)\n",
    "        self.fc2 = Linear(dim, dataset.num_classes)\n",
    "\n",
    "    def forward(self, x, edge_index, batch):\n",
    "        x = F.relu(self.conv1(x, edge_index))\n",
    "        x = self.bn1(x)\n",
    "        x = F.relu(self.conv2(x, edge_index))\n",
    "        x = self.bn2(x)\n",
    "        x = F.relu(self.conv3(x, edge_index))\n",
    "        x = self.bn3(x)\n",
    "        x = F.relu(self.conv4(x, edge_index))\n",
    "        x = self.bn4(x)\n",
    "        x = F.relu(self.conv5(x, edge_index))\n",
    "        x = self.bn5(x)\n",
    "        x = global_add_pool(x, batch)\n",
    "        x = F.relu(self.fc1(x))\n",
    "        x = F.dropout(x, p=0.5, training=self.training)\n",
    "        x = self.fc2(x)\n",
    "        return F.log_softmax(x, dim=-1)\n"
   ]
  },
  {
   "cell_type": "code",
   "execution_count": 13,
   "metadata": {},
   "outputs": [],
   "source": [
    "class PNANet(torch.nn.Module):\n",
    "    def __init__(self):\n",
    "        super(PNANet, self).__init__()\n",
    "\n",
    "        num_features = dataset.num_features\n",
    "        dim = 32\n",
    "\n",
    "        nn1 = Sequential(Linear(num_features, dim), ReLU(), Linear(dim, dim))\n",
    "        self.conv1 = GINPNAConv(nn1, node_dim=num_features)\n",
    "        self.bn1 = torch.nn.BatchNorm1d(dim)\n",
    "\n",
    "        nn2 = Sequential(Linear(dim, dim), ReLU(), Linear(dim, dim))\n",
    "        self.conv2 = GINPNAConv(nn2, node_dim=dim)\n",
    "        self.bn2 = torch.nn.BatchNorm1d(dim)\n",
    "\n",
    "        nn3 = Sequential(Linear(dim, dim), ReLU(), Linear(dim, dim))\n",
    "        self.conv3 = GINPNAConv(nn3, node_dim=dim)\n",
    "        self.bn3 = torch.nn.BatchNorm1d(dim)\n",
    "\n",
    "        nn4 = Sequential(Linear(dim, dim), ReLU(), Linear(dim, dim))\n",
    "        self.conv4 = GINPNAConv(nn4, node_dim=dim)\n",
    "        self.bn4 = torch.nn.BatchNorm1d(dim)\n",
    "\n",
    "        nn5 = Sequential(Linear(dim, dim), ReLU(), Linear(dim, dim))\n",
    "        self.conv5 = GINPNAConv(nn5, node_dim=dim)\n",
    "        self.bn5 = torch.nn.BatchNorm1d(dim)\n",
    "\n",
    "        self.fc1 = Linear(dim, dim)\n",
    "        self.fc2 = Linear(dim, dataset.num_classes)\n",
    "\n",
    "    def forward(self, x, edge_index, batch):\n",
    "        x = F.relu(self.conv1(x, edge_index))\n",
    "        x = self.bn1(x)\n",
    "        x = F.relu(self.conv2(x, edge_index))\n",
    "        x = self.bn2(x)\n",
    "        x = F.relu(self.conv3(x, edge_index))\n",
    "        x = self.bn3(x)\n",
    "        x = F.relu(self.conv4(x, edge_index))\n",
    "        x = self.bn4(x)\n",
    "        x = F.relu(self.conv5(x, edge_index))\n",
    "        x = self.bn5(x)\n",
    "        x = global_add_pool(x, batch)\n",
    "        x = F.relu(self.fc1(x))\n",
    "        x = F.dropout(x, p=0.5, training=self.training)\n",
    "        x = self.fc2(x)\n",
    "        return F.log_softmax(x, dim=-1)"
   ]
  },
  {
   "cell_type": "code",
   "execution_count": 14,
   "metadata": {},
   "outputs": [],
   "source": [
    "class GINNet(torch.nn.Module):\n",
    "    def __init__(self):\n",
    "        super(GINNet, self).__init__()\n",
    "\n",
    "        num_features = dataset.num_features\n",
    "        dim = 32\n",
    "\n",
    "        nn1 = Sequential(Linear(num_features, dim), ReLU(), Linear(dim, dim))\n",
    "        self.conv1 = GINConv(nn1)\n",
    "        self.bn1 = torch.nn.BatchNorm1d(dim)\n",
    "\n",
    "        nn2 = Sequential(Linear(dim, dim), ReLU(), Linear(dim, dim))\n",
    "        self.conv2 = GINConv(nn2)\n",
    "        self.bn2 = torch.nn.BatchNorm1d(dim)\n",
    "\n",
    "        nn3 = Sequential(Linear(dim, dim), ReLU(), Linear(dim, dim))\n",
    "        self.conv3 = GINConv(nn3)\n",
    "        self.bn3 = torch.nn.BatchNorm1d(dim)\n",
    "\n",
    "        nn4 = Sequential(Linear(dim, dim), ReLU(), Linear(dim, dim))\n",
    "        self.conv4 = GINConv(nn4)\n",
    "        self.bn4 = torch.nn.BatchNorm1d(dim)\n",
    "\n",
    "        nn5 = Sequential(Linear(dim, dim), ReLU(), Linear(dim, dim))\n",
    "        self.conv5 = GINConv(nn5)\n",
    "        self.bn5 = torch.nn.BatchNorm1d(dim)\n",
    "\n",
    "        self.fc1 = Linear(dim, dim)\n",
    "        self.fc2 = Linear(dim, dataset.num_classes)\n",
    "\n",
    "    def forward(self, x, edge_index, batch):\n",
    "        x = F.relu(self.conv1(x, edge_index))\n",
    "        x = self.bn1(x)\n",
    "        x = F.relu(self.conv2(x, edge_index))\n",
    "        x = self.bn2(x)\n",
    "        x = F.relu(self.conv3(x, edge_index))\n",
    "        x = self.bn3(x)\n",
    "        x = F.relu(self.conv4(x, edge_index))\n",
    "        x = self.bn4(x)\n",
    "        x = F.relu(self.conv5(x, edge_index))\n",
    "        x = self.bn5(x)\n",
    "        x = global_add_pool(x, batch)\n",
    "        x = F.relu(self.fc1(x))\n",
    "        x = F.dropout(x, p=0.5, training=self.training)\n",
    "        x = self.fc2(x)\n",
    "        return F.log_softmax(x, dim=-1)"
   ]
  },
  {
   "cell_type": "code",
   "execution_count": 16,
   "metadata": {
    "scrolled": false
   },
   "outputs": [
    {
     "name": "stdout",
     "output_type": "stream",
     "text": [
      "Epoch: 001, Train Loss: 0.9667242, Train Acc: 0.6705882, Test Acc: 0.6111111\n",
      "Epoch: 002, Train Loss: 0.8010474, Train Acc: 0.6705882, Test Acc: 0.6111111\n",
      "Epoch: 003, Train Loss: 0.6496314, Train Acc: 0.6705882, Test Acc: 0.6111111\n",
      "Epoch: 004, Train Loss: 0.6278031, Train Acc: 0.7470588, Test Acc: 0.8333333\n",
      "Epoch: 005, Train Loss: 0.5854792, Train Acc: 0.8117647, Test Acc: 0.8333333\n",
      "Epoch: 006, Train Loss: 0.7120908, Train Acc: 0.3352941, Test Acc: 0.3888889\n",
      "Epoch: 007, Train Loss: 0.4806063, Train Acc: 0.3294118, Test Acc: 0.3888889\n",
      "Epoch: 008, Train Loss: 0.6434682, Train Acc: 0.8411765, Test Acc: 0.8333333\n",
      "Epoch: 009, Train Loss: 0.5367474, Train Acc: 0.7000000, Test Acc: 0.8333333\n",
      "Epoch: 010, Train Loss: 0.6495158, Train Acc: 0.7470588, Test Acc: 0.9444444\n",
      "Epoch: 011, Train Loss: 0.4956482, Train Acc: 0.7529412, Test Acc: 0.9444444\n",
      "Epoch: 012, Train Loss: 0.5037048, Train Acc: 0.7941176, Test Acc: 0.7777778\n",
      "Epoch: 013, Train Loss: 0.4849368, Train Acc: 0.5117647, Test Acc: 0.5000000\n",
      "Epoch: 014, Train Loss: 0.4922064, Train Acc: 0.3294118, Test Acc: 0.3888889\n",
      "Epoch: 015, Train Loss: 0.4552305, Train Acc: 0.3294118, Test Acc: 0.3888889\n",
      "Epoch: 016, Train Loss: 0.4234016, Train Acc: 0.3294118, Test Acc: 0.3888889\n",
      "Epoch: 017, Train Loss: 0.3843072, Train Acc: 0.3294118, Test Acc: 0.3888889\n",
      "Epoch: 018, Train Loss: 0.3626603, Train Acc: 0.7764706, Test Acc: 0.7222222\n",
      "Epoch: 019, Train Loss: 0.3642606, Train Acc: 0.6764706, Test Acc: 0.6666667\n",
      "Epoch: 020, Train Loss: 0.3521315, Train Acc: 0.6705882, Test Acc: 0.6111111\n",
      "Epoch: 021, Train Loss: 0.3530238, Train Acc: 0.6705882, Test Acc: 0.6111111\n",
      "Epoch: 022, Train Loss: 0.3278090, Train Acc: 0.6705882, Test Acc: 0.6111111\n",
      "Epoch: 023, Train Loss: 0.3180496, Train Acc: 0.6705882, Test Acc: 0.6111111\n",
      "Epoch: 024, Train Loss: 0.3065330, Train Acc: 0.6705882, Test Acc: 0.6111111\n",
      "Epoch: 025, Train Loss: 0.3372174, Train Acc: 0.6705882, Test Acc: 0.6111111\n",
      "Epoch: 026, Train Loss: 0.3460185, Train Acc: 0.6764706, Test Acc: 0.6666667\n",
      "Epoch: 027, Train Loss: 0.2814993, Train Acc: 0.6823529, Test Acc: 0.6666667\n",
      "Epoch: 028, Train Loss: 0.3088806, Train Acc: 0.6882353, Test Acc: 0.7222222\n",
      "Epoch: 029, Train Loss: 0.3006972, Train Acc: 0.7000000, Test Acc: 0.7222222\n",
      "Epoch: 030, Train Loss: 0.2910589, Train Acc: 0.7000000, Test Acc: 0.7777778\n",
      "Epoch: 031, Train Loss: 0.2926055, Train Acc: 0.7294118, Test Acc: 0.8333333\n",
      "Epoch: 032, Train Loss: 0.2855813, Train Acc: 0.7294118, Test Acc: 0.8333333\n",
      "Epoch: 033, Train Loss: 0.2923050, Train Acc: 0.7235294, Test Acc: 0.8333333\n",
      "Epoch: 034, Train Loss: 0.2781042, Train Acc: 0.7117647, Test Acc: 0.7777778\n",
      "Epoch: 035, Train Loss: 0.2902455, Train Acc: 0.7470588, Test Acc: 0.8333333\n",
      "Epoch: 036, Train Loss: 0.2757152, Train Acc: 0.7882353, Test Acc: 0.8888889\n",
      "Epoch: 037, Train Loss: 0.2329399, Train Acc: 0.7647059, Test Acc: 0.8333333\n",
      "Epoch: 038, Train Loss: 0.2632701, Train Acc: 0.7588235, Test Acc: 0.8333333\n",
      "Epoch: 039, Train Loss: 0.2636144, Train Acc: 0.7588235, Test Acc: 0.7777778\n",
      "Epoch: 040, Train Loss: 0.2495537, Train Acc: 0.7764706, Test Acc: 0.7777778\n",
      "Epoch: 041, Train Loss: 0.2818573, Train Acc: 0.7647059, Test Acc: 0.7222222\n",
      "Epoch: 042, Train Loss: 0.2582185, Train Acc: 0.7470588, Test Acc: 0.7222222\n",
      "Epoch: 043, Train Loss: 0.2602105, Train Acc: 0.7588235, Test Acc: 0.7777778\n",
      "Epoch: 044, Train Loss: 0.2312958, Train Acc: 0.8352941, Test Acc: 0.8888889\n",
      "Epoch: 045, Train Loss: 0.2531682, Train Acc: 0.8529412, Test Acc: 0.9444444\n",
      "Epoch: 046, Train Loss: 0.2421916, Train Acc: 0.8588235, Test Acc: 0.9444444\n",
      "Epoch: 047, Train Loss: 0.2480463, Train Acc: 0.8705882, Test Acc: 0.9444444\n",
      "Epoch: 048, Train Loss: 0.2338253, Train Acc: 0.8411765, Test Acc: 0.8888889\n",
      "Epoch: 049, Train Loss: 0.2339245, Train Acc: 0.7352941, Test Acc: 0.7777778\n",
      "Epoch: 050, Train Loss: 0.2529028, Train Acc: 0.7235294, Test Acc: 0.7222222\n",
      "Epoch: 051, Train Loss: 0.2382161, Train Acc: 0.7411765, Test Acc: 0.7222222\n",
      "Epoch: 052, Train Loss: 0.2320511, Train Acc: 0.7411765, Test Acc: 0.7222222\n",
      "Epoch: 053, Train Loss: 0.2346518, Train Acc: 0.7235294, Test Acc: 0.7222222\n",
      "Epoch: 054, Train Loss: 0.2371556, Train Acc: 0.7411765, Test Acc: 0.7222222\n",
      "Epoch: 055, Train Loss: 0.2301773, Train Acc: 0.8058824, Test Acc: 1.0000000\n",
      "Epoch: 056, Train Loss: 0.2152230, Train Acc: 0.8882353, Test Acc: 0.8888889\n",
      "Epoch: 057, Train Loss: 0.2171729, Train Acc: 0.8058824, Test Acc: 0.7777778\n",
      "Epoch: 058, Train Loss: 0.2279521, Train Acc: 0.6823529, Test Acc: 0.6111111\n",
      "Epoch: 059, Train Loss: 0.2350173, Train Acc: 0.7058824, Test Acc: 0.7222222\n",
      "Epoch: 060, Train Loss: 0.2287778, Train Acc: 0.8000000, Test Acc: 0.7777778\n",
      "Epoch: 061, Train Loss: 0.2440483, Train Acc: 0.8941176, Test Acc: 1.0000000\n",
      "Epoch: 062, Train Loss: 0.2219068, Train Acc: 0.8117647, Test Acc: 0.8888889\n",
      "Epoch: 063, Train Loss: 0.2282976, Train Acc: 0.7823529, Test Acc: 0.8888889\n",
      "Epoch: 064, Train Loss: 0.2256944, Train Acc: 0.7764706, Test Acc: 0.8888889\n",
      "Epoch: 065, Train Loss: 0.2107078, Train Acc: 0.7647059, Test Acc: 0.7777778\n",
      "Epoch: 066, Train Loss: 0.2083134, Train Acc: 0.7764706, Test Acc: 0.7777778\n",
      "Epoch: 067, Train Loss: 0.2357713, Train Acc: 0.7941176, Test Acc: 0.7777778\n",
      "Epoch: 068, Train Loss: 0.2154498, Train Acc: 0.8058824, Test Acc: 0.8888889\n",
      "Epoch: 069, Train Loss: 0.2401291, Train Acc: 0.7764706, Test Acc: 0.8333333\n",
      "Epoch: 070, Train Loss: 0.2178495, Train Acc: 0.7705882, Test Acc: 0.8333333\n",
      "Epoch: 071, Train Loss: 0.2239835, Train Acc: 0.8294118, Test Acc: 0.9444444\n",
      "Epoch: 072, Train Loss: 0.2244863, Train Acc: 0.8647059, Test Acc: 0.9444444\n",
      "Epoch: 073, Train Loss: 0.1970116, Train Acc: 0.8764706, Test Acc: 0.8888889\n",
      "Epoch: 074, Train Loss: 0.1925867, Train Acc: 0.8705882, Test Acc: 0.9444444\n",
      "Epoch: 075, Train Loss: 0.2207929, Train Acc: 0.8705882, Test Acc: 0.8888889\n",
      "Epoch: 076, Train Loss: 0.2048378, Train Acc: 0.8764706, Test Acc: 0.9444444\n",
      "Epoch: 077, Train Loss: 0.2181680, Train Acc: 0.8411765, Test Acc: 0.7222222\n",
      "Epoch: 078, Train Loss: 0.2067966, Train Acc: 0.7000000, Test Acc: 0.6666667\n",
      "Epoch: 079, Train Loss: 0.2350611, Train Acc: 0.8117647, Test Acc: 0.7777778\n",
      "Epoch: 080, Train Loss: 0.2258941, Train Acc: 0.8588235, Test Acc: 0.8333333\n",
      "Epoch: 081, Train Loss: 0.2046184, Train Acc: 0.8588235, Test Acc: 0.9444444\n",
      "Epoch: 082, Train Loss: 0.2263686, Train Acc: 0.8176471, Test Acc: 0.8333333\n",
      "Epoch: 083, Train Loss: 0.2054903, Train Acc: 0.4882353, Test Acc: 0.4444444\n",
      "Epoch: 084, Train Loss: 0.1967915, Train Acc: 0.3470588, Test Acc: 0.3888889\n",
      "Epoch: 085, Train Loss: 0.2313433, Train Acc: 0.3411765, Test Acc: 0.3888889\n",
      "Epoch: 086, Train Loss: 0.2185409, Train Acc: 0.3411765, Test Acc: 0.3888889\n",
      "Epoch: 087, Train Loss: 0.2023252, Train Acc: 0.3647059, Test Acc: 0.3888889\n",
      "Epoch: 088, Train Loss: 0.2315958, Train Acc: 0.6529412, Test Acc: 0.7222222\n",
      "Epoch: 089, Train Loss: 0.2115340, Train Acc: 0.9058824, Test Acc: 0.8888889\n",
      "Epoch: 090, Train Loss: 0.2071382, Train Acc: 0.8176471, Test Acc: 1.0000000\n",
      "Epoch: 091, Train Loss: 0.1994349, Train Acc: 0.7470588, Test Acc: 0.7222222\n",
      "Epoch: 092, Train Loss: 0.2001280, Train Acc: 0.7529412, Test Acc: 0.7222222\n",
      "Epoch: 093, Train Loss: 0.2099594, Train Acc: 0.7823529, Test Acc: 0.9444444\n",
      "Epoch: 094, Train Loss: 0.2067025, Train Acc: 0.8000000, Test Acc: 0.9444444\n",
      "Epoch: 095, Train Loss: 0.1913657, Train Acc: 0.7823529, Test Acc: 0.9444444\n",
      "Epoch: 096, Train Loss: 0.1931265, Train Acc: 0.7647059, Test Acc: 0.8888889\n",
      "Epoch: 097, Train Loss: 0.1918544, Train Acc: 0.7823529, Test Acc: 0.8888889\n",
      "Epoch: 098, Train Loss: 0.2069518, Train Acc: 0.8176471, Test Acc: 0.9444444\n",
      "Epoch: 099, Train Loss: 0.1979972, Train Acc: 0.8529412, Test Acc: 0.9444444\n",
      "Epoch: 100, Train Loss: 0.1751010, Train Acc: 0.8352941, Test Acc: 0.8888889\n"
     ]
    }
   ],
   "source": [
    "device = torch.device('cuda' if torch.cuda.is_available() else 'cpu')\n",
    "net = \"LAF\"\n",
    "if net == \"LAF\":\n",
    "    model = LAFNet().to(device)\n",
    "elif net == \"PNA\":\n",
    "    model = PNANet().to(device)\n",
    "elif net == \"GIN\":\n",
    "    GINNet().to(device)\n",
    "\n",
    "optimizer = torch.optim.Adam(model.parameters(), lr=0.001)\n",
    "\n",
    "\n",
    "def train(epoch):\n",
    "    model.train()\n",
    "\n",
    "    if epoch == 51:\n",
    "        for param_group in optimizer.param_groups:\n",
    "            param_group['lr'] = 0.5 * param_group['lr']\n",
    "\n",
    "    loss_all = 0\n",
    "    for data in train_loader:\n",
    "        data = data.to(device)\n",
    "        optimizer.zero_grad()\n",
    "        output = model(data.x, data.edge_index, data.batch)\n",
    "        loss = F.nll_loss(output, data.y)\n",
    "        loss.backward()\n",
    "        loss_all += loss.item() * data.num_graphs\n",
    "        optimizer.step()\n",
    "    return loss_all / len(train_dataset)\n",
    "\n",
    "\n",
    "def test(loader):\n",
    "    model.eval()\n",
    "\n",
    "    correct = 0\n",
    "    for data in loader:\n",
    "        data = data.to(device)\n",
    "        output = model(data.x, data.edge_index, data.batch)\n",
    "        pred = output.max(dim=1)[1]\n",
    "        correct += pred.eq(data.y).sum().item()\n",
    "    return correct / len(loader.dataset)\n",
    "\n",
    "\n",
    "for epoch in range(1, 101):\n",
    "    train_loss = train(epoch)\n",
    "    train_acc = test(train_loader)\n",
    "    test_acc = test(test_loader)\n",
    "    print('Epoch: {:03d}, Train Loss: {:.7f}, '\n",
    "          'Train Acc: {:.7f}, Test Acc: {:.7f}'.format(epoch, train_loss,\n",
    "                                                       train_acc, test_acc))"
   ]
  },
  {
   "cell_type": "code",
   "execution_count": null,
   "metadata": {},
   "outputs": [],
   "source": []
  }
 ],
 "metadata": {
  "kernelspec": {
   "display_name": "Python 3",
   "language": "python",
   "name": "python3"
  },
  "language_info": {
   "codemirror_mode": {
    "name": "ipython",
    "version": 3
   },
   "file_extension": ".py",
   "mimetype": "text/x-python",
   "name": "python",
   "nbconvert_exporter": "python",
   "pygments_lexer": "ipython3",
   "version": "3.9.12"
  }
 },
 "nbformat": 4,
 "nbformat_minor": 4
}
